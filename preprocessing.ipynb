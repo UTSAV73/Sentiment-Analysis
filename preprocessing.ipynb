{
  "nbformat": 4,
  "nbformat_minor": 0,
  "metadata": {
    "colab": {
      "provenance": []
    },
    "kernelspec": {
      "name": "python3",
      "display_name": "Python 3"
    },
    "language_info": {
      "name": "python"
    }
  },
  "cells": [
    {
      "cell_type": "code",
      "execution_count": null,
      "metadata": {
        "id": "VNZkrdLJ04El"
      },
      "outputs": [],
      "source": [
        "from sklearn.datasets import fetch_20newsgroups"
      ]
    },
    {
      "cell_type": "code",
      "source": [
        "txt_data = fetch_20newsgroups()\n"
      ],
      "metadata": {
        "id": "MwzvUuP707Qy"
      },
      "execution_count": null,
      "outputs": []
    },
    {
      "cell_type": "code",
      "source": [
        "import numpy as np"
      ],
      "metadata": {
        "id": "AY_thDyG1R3E"
      },
      "execution_count": null,
      "outputs": []
    },
    {
      "cell_type": "code",
      "source": [
        "raw_txt=txt_data.data\n"
      ],
      "metadata": {
        "id": "VbODG-pP1XEZ"
      },
      "execution_count": null,
      "outputs": []
    },
    {
      "cell_type": "code",
      "source": [
        "#converting everything to lower_case"
      ],
      "metadata": {
        "id": "Aw9gM-1L1bRK"
      },
      "execution_count": null,
      "outputs": []
    },
    {
      "cell_type": "markdown",
      "source": [
        "**Converting everything to lower_case**\n"
      ],
      "metadata": {
        "id": "kE3l87Ef1wUc"
      }
    },
    {
      "cell_type": "code",
      "source": [
        "clean_txt=[]\n",
        "for words in raw_txt:\n",
        "  clean_txt.append(words.lower())\n"
      ],
      "metadata": {
        "id": "KSU8jTJi1567"
      },
      "execution_count": null,
      "outputs": []
    },
    {
      "cell_type": "markdown",
      "source": [
        "Tokenization"
      ],
      "metadata": {
        "id": "75twtDOD4QjU"
      }
    },
    {
      "cell_type": "code",
      "source": [
        "from nltk.tokenize import sent_tokenize #sentence tokenizer\n",
        "from nltk.tokenize import word_tokenize #word tokenizer"
      ],
      "metadata": {
        "id": "q8e6OKJ34Src"
      },
      "execution_count": null,
      "outputs": []
    },
    {
      "cell_type": "code",
      "source": [
        "import nltk\n",
        "nltk.download('punkt')"
      ],
      "metadata": {
        "colab": {
          "base_uri": "https://localhost:8080/"
        },
        "id": "-Ei1ftao4mGj",
        "outputId": "bbc3001e-55b0-4dd7-c3ea-ff61dc04b1c1"
      },
      "execution_count": null,
      "outputs": [
        {
          "output_type": "stream",
          "name": "stderr",
          "text": [
            "[nltk_data] Downloading package punkt to /root/nltk_data...\n",
            "[nltk_data]   Unzipping tokenizers/punkt.zip.\n"
          ]
        },
        {
          "output_type": "execute_result",
          "data": {
            "text/plain": [
              "True"
            ]
          },
          "metadata": {},
          "execution_count": 21
        }
      ]
    },
    {
      "cell_type": "code",
      "source": [
        " #sentence tokenize\n",
        " sent_tok =[]\n",
        " for sent in clean_txt:\n",
        "  sent = sent_tokenize(sent)\n",
        "  sent_tok.append(sent)"
      ],
      "metadata": {
        "id": "h2J6V7HP40nN"
      },
      "execution_count": null,
      "outputs": []
    },
    {
      "cell_type": "code",
      "source": [
        "#word tokenize\n",
        "word_tok=[]\n",
        "for word in clean_txt:\n",
        "  word=word_tokenize(word)\n",
        "  word_tok.append(word)"
      ],
      "metadata": {
        "id": "UCcXYRW15QEQ"
      },
      "execution_count": null,
      "outputs": []
    },
    {
      "cell_type": "code",
      "source": [
        "#removing unwanted characters and punctuations using regex\n",
        "import re\n",
        "cleaner_txt=[]\n",
        "for words in word_tok:\n",
        "  clean=[]\n",
        "  for w in words:\n",
        "    res=re.sub(r'[^/w/s]',\"\",w)\n",
        "    if res !=\"\":\n",
        "      clean.append(res)\n",
        "      cleaner_txt.append(w)\n",
        "\n"
      ],
      "metadata": {
        "id": "5hpEQk5B6yAR"
      },
      "execution_count": null,
      "outputs": []
    },
    {
      "cell_type": "markdown",
      "source": [
        "Stemming"
      ],
      "metadata": {
        "id": "iwr9lR_q8Zgo"
      }
    },
    {
      "cell_type": "code",
      "source": [
        "from nltk.stem.porter import PorterStemmer"
      ],
      "metadata": {
        "id": "UF9xpepE68Fu"
      },
      "execution_count": null,
      "outputs": []
    },
    {
      "cell_type": "code",
      "source": [
        "port =PorterStemmer()"
      ],
      "metadata": {
        "id": "AeyLcXlb8Q4o"
      },
      "execution_count": null,
      "outputs": []
    },
    {
      "cell_type": "code",
      "source": [
        "#stemming\n",
        "stem_txt=[]\n",
        "for word in cleaner_txt:\n",
        "    word=port.stem(word)\n",
        "    stem_txt.append(word)\n"
      ],
      "metadata": {
        "id": "3glNw_Y28pEO"
      },
      "execution_count": null,
      "outputs": []
    },
    {
      "cell_type": "markdown",
      "source": [
        "Lemitization"
      ],
      "metadata": {
        "id": "oN02gSbAAd2B"
      }
    },
    {
      "cell_type": "code",
      "source": [
        "from nltk.stem.wordnet import WordNetLemmatizer"
      ],
      "metadata": {
        "id": "gRBkc2bNAH-7"
      },
      "execution_count": null,
      "outputs": []
    },
    {
      "cell_type": "code",
      "source": [
        "lemm= WordNetLemmatizer()"
      ],
      "metadata": {
        "id": "qqcKyvWiATGu"
      },
      "execution_count": null,
      "outputs": []
    },
    {
      "cell_type": "code",
      "source": [
        "import nltk\n",
        "nltk.download('wordnet')\n"
      ],
      "metadata": {
        "colab": {
          "base_uri": "https://localhost:8080/"
        },
        "id": "DeTWv-GUA15u",
        "outputId": "48ed915c-70bf-4ac0-dd29-f906613cfcd2"
      },
      "execution_count": null,
      "outputs": [
        {
          "output_type": "stream",
          "name": "stderr",
          "text": [
            "[nltk_data] Downloading package wordnet to /root/nltk_data...\n"
          ]
        },
        {
          "output_type": "execute_result",
          "data": {
            "text/plain": [
              "True"
            ]
          },
          "metadata": {},
          "execution_count": 39
        }
      ]
    },
    {
      "cell_type": "code",
      "source": [
        "lem=[]\n",
        "for words in cleaner_txt:\n",
        "  w=[]\n",
        "  for word in words:\n",
        "    w.append(lemm.lemmatize(word))\n",
        "  lem.append(w)"
      ],
      "metadata": {
        "id": "KXX4H6btA89f"
      },
      "execution_count": null,
      "outputs": []
    },
    {
      "cell_type": "code",
      "source": [],
      "metadata": {
        "id": "hbrzZcVRBql5"
      },
      "execution_count": null,
      "outputs": []
    }
  ]
}