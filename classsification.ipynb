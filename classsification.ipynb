{
  "nbformat": 4,
  "nbformat_minor": 0,
  "metadata": {
    "colab": {
      "provenance": []
    },
    "kernelspec": {
      "name": "python3",
      "display_name": "Python 3"
    },
    "language_info": {
      "name": "python"
    }
  },
  "cells": [
    {
      "cell_type": "code",
      "execution_count": null,
      "metadata": {
        "id": "WT9zXSpPDDyu"
      },
      "outputs": [],
      "source": [
        "import pandas as pd\n",
        "import numpy as np\n",
        "from sklearn.preprocessing import LabelEncoder\n",
        "from sklearn.model_selection import train_test_split"
      ]
    },
    {
      "cell_type": "code",
      "source": [
        "rr=pd.read_csv(\"/mushrooms.csv\")"
      ],
      "metadata": {
        "id": "du6Irj_RD6Lu"
      },
      "execution_count": null,
      "outputs": []
    },
    {
      "cell_type": "code",
      "source": [
        "le=LabelEncoder()"
      ],
      "metadata": {
        "id": "chcWEypPF8nM"
      },
      "execution_count": null,
      "outputs": []
    },
    {
      "cell_type": "code",
      "source": [
        "rr_en= rr.apply(le.fit_transform, axis=0)"
      ],
      "metadata": {
        "id": "_P4Pbh1uGc2D"
      },
      "execution_count": null,
      "outputs": []
    },
    {
      "cell_type": "code",
      "source": [
        "rr=rr_en.values"
      ],
      "metadata": {
        "id": "tedeKcEbG-LG"
      },
      "execution_count": null,
      "outputs": []
    },
    {
      "cell_type": "code",
      "source": [
        "X=rr[: , 1: ]\n",
        "X"
      ],
      "metadata": {
        "id": "59L0yUjqH1hf",
        "colab": {
          "base_uri": "https://localhost:8080/"
        },
        "outputId": "ef21f722-e8a1-4dca-ba8f-fce93e6fd19d"
      },
      "execution_count": null,
      "outputs": [
        {
          "output_type": "execute_result",
          "data": {
            "text/plain": [
              "array([[5, 2, 4, ..., 2, 3, 5],\n",
              "       [5, 2, 9, ..., 3, 2, 1],\n",
              "       [0, 2, 8, ..., 3, 2, 3],\n",
              "       ...,\n",
              "       [2, 2, 4, ..., 0, 1, 2],\n",
              "       [3, 3, 4, ..., 7, 4, 2],\n",
              "       [5, 2, 4, ..., 4, 1, 2]])"
            ]
          },
          "metadata": {},
          "execution_count": 6
        }
      ]
    },
    {
      "cell_type": "code",
      "source": [
        "Y=rr[: , 0]"
      ],
      "metadata": {
        "id": "qCwcm907H_gq"
      },
      "execution_count": null,
      "outputs": []
    },
    {
      "cell_type": "code",
      "source": [
        "X_train, Y_train, X_test, Y_test=train_test_split(X, Y,test_size=0.2,random_state=42)"
      ],
      "metadata": {
        "id": "aCBcJHRcIB9C"
      },
      "execution_count": null,
      "outputs": []
    },
    {
      "cell_type": "markdown",
      "source": [
        "Finding probabilities\n"
      ],
      "metadata": {
        "id": "5UiUC2ETOP4w"
      }
    },
    {
      "cell_type": "code",
      "source": [
        "# Prior probability\n",
        "\n",
        "def prior_prob(Y_train, label):\n",
        "  m=Y_train.shape[0]\n",
        "  s=np.sum(Y_train==label)\n",
        "  return m/s\n"
      ],
      "metadata": {
        "id": "aNtIhFSKOc2M"
      },
      "execution_count": null,
      "outputs": []
    },
    {
      "cell_type": "code",
      "source": [
        "# Likelyhood\n",
        "\n",
        "def cond_prob(X_train,Y_train,feature_col, val, label):\n",
        "  X_filtered=X_train[Y_train==label]\n",
        "  num=np.sum(X_filtered[:,feature_col]==val)\n",
        "  D=X_filtered.shape[0]\n",
        "  return float(num/D)\n"
      ],
      "metadata": {
        "id": "Gvsxp7-PO24V"
      },
      "execution_count": null,
      "outputs": []
    },
    {
      "cell_type": "code",
      "source": [
        "# Prediction/posterior probability\n",
        "\n",
        "def predict(X_train, Y_train,X_test):\n",
        "  classes=np.unique(Y_train)\n",
        "  n=X_train.shape[1]\n",
        "  post_prob =[]\n",
        "  for labels in classes:\n",
        "    likelyhood=1.0\n",
        "    for features in range(n):\n",
        "      cond=cond_prob(X_train,Y_train, features, X_test[features],labels)\n",
        "      likelyhood=cond*likelyhood\n",
        "    prior=prior_prob (Y_train,labels)\n",
        "    post=likelyhood*prior\n",
        "    post_prob.append(post)\n",
        "    pred=np.argmax(post_prob)\n",
        "    return pred"
      ],
      "metadata": {
        "id": "TAJx_w2WP0Yu"
      },
      "execution_count": null,
      "outputs": []
    },
    {
      "cell_type": "code",
      "source": [
        "def accuracy( X_train, Y_train, X_test, Y_test):\n",
        "  pred=[]\n",
        "  for i in range(X_test.shape[0]):\n",
        "    p=predict(X_train, Y_train,X_test[i])\n",
        "    pred.append(p)\n",
        "  y_pred=np.array(pred)\n",
        "  acc=np.sum(y_pred==Y_test/y_pred.shape[0])\n",
        "  return acc"
      ],
      "metadata": {
        "id": "CjzJ3cEGRjts"
      },
      "execution_count": null,
      "outputs": []
    },
    {
      "cell_type": "code",
      "source": [
        "acc=accuracy(X_train, Y_train, X_test, Y_test)"
      ],
      "metadata": {
        "colab": {
          "base_uri": "https://localhost:8080/",
          "height": 311
        },
        "id": "rkeUYWgySkII",
        "outputId": "b26aaa50-ab3d-4d25-f88d-8fbd15fcdaeb"
      },
      "execution_count": null,
      "outputs": [
        {
          "output_type": "error",
          "ename": "IndexError",
          "evalue": "ignored",
          "traceback": [
            "\u001b[0;31m---------------------------------------------------------------------------\u001b[0m",
            "\u001b[0;31mIndexError\u001b[0m                                Traceback (most recent call last)",
            "\u001b[0;32m<ipython-input-13-ce0aa0f43f95>\u001b[0m in \u001b[0;36m<cell line: 1>\u001b[0;34m()\u001b[0m\n\u001b[0;32m----> 1\u001b[0;31m \u001b[0macc\u001b[0m\u001b[0;34m=\u001b[0m\u001b[0maccuracy\u001b[0m\u001b[0;34m(\u001b[0m\u001b[0mX_train\u001b[0m\u001b[0;34m,\u001b[0m \u001b[0mY_train\u001b[0m\u001b[0;34m,\u001b[0m \u001b[0mX_test\u001b[0m\u001b[0;34m,\u001b[0m \u001b[0mY_test\u001b[0m\u001b[0;34m)\u001b[0m\u001b[0;34m\u001b[0m\u001b[0;34m\u001b[0m\u001b[0m\n\u001b[0m",
            "\u001b[0;32m<ipython-input-12-de237f1945da>\u001b[0m in \u001b[0;36maccuracy\u001b[0;34m(X_train, Y_train, X_test, Y_test)\u001b[0m\n\u001b[1;32m      2\u001b[0m   \u001b[0mpred\u001b[0m\u001b[0;34m=\u001b[0m\u001b[0;34m[\u001b[0m\u001b[0;34m]\u001b[0m\u001b[0;34m\u001b[0m\u001b[0;34m\u001b[0m\u001b[0m\n\u001b[1;32m      3\u001b[0m   \u001b[0;32mfor\u001b[0m \u001b[0mi\u001b[0m \u001b[0;32min\u001b[0m \u001b[0mrange\u001b[0m\u001b[0;34m(\u001b[0m\u001b[0mX_test\u001b[0m\u001b[0;34m.\u001b[0m\u001b[0mshape\u001b[0m\u001b[0;34m[\u001b[0m\u001b[0;36m0\u001b[0m\u001b[0;34m]\u001b[0m\u001b[0;34m)\u001b[0m\u001b[0;34m:\u001b[0m\u001b[0;34m\u001b[0m\u001b[0;34m\u001b[0m\u001b[0m\n\u001b[0;32m----> 4\u001b[0;31m     \u001b[0mp\u001b[0m\u001b[0;34m=\u001b[0m\u001b[0mpredict\u001b[0m\u001b[0;34m(\u001b[0m\u001b[0mX_train\u001b[0m\u001b[0;34m,\u001b[0m \u001b[0mY_train\u001b[0m\u001b[0;34m,\u001b[0m\u001b[0mX_test\u001b[0m\u001b[0;34m[\u001b[0m\u001b[0mi\u001b[0m\u001b[0;34m]\u001b[0m\u001b[0;34m)\u001b[0m\u001b[0;34m\u001b[0m\u001b[0;34m\u001b[0m\u001b[0m\n\u001b[0m\u001b[1;32m      5\u001b[0m     \u001b[0mpred\u001b[0m\u001b[0;34m.\u001b[0m\u001b[0mappend\u001b[0m\u001b[0;34m(\u001b[0m\u001b[0mp\u001b[0m\u001b[0;34m)\u001b[0m\u001b[0;34m\u001b[0m\u001b[0;34m\u001b[0m\u001b[0m\n\u001b[1;32m      6\u001b[0m   \u001b[0my_pred\u001b[0m\u001b[0;34m=\u001b[0m\u001b[0mnp\u001b[0m\u001b[0;34m.\u001b[0m\u001b[0marray\u001b[0m\u001b[0;34m(\u001b[0m\u001b[0mpred\u001b[0m\u001b[0;34m)\u001b[0m\u001b[0;34m\u001b[0m\u001b[0;34m\u001b[0m\u001b[0m\n",
            "\u001b[0;32m<ipython-input-11-e71bce670b52>\u001b[0m in \u001b[0;36mpredict\u001b[0;34m(X_train, Y_train, X_test)\u001b[0m\n\u001b[1;32m      8\u001b[0m     \u001b[0mlikelyhood\u001b[0m\u001b[0;34m=\u001b[0m\u001b[0;36m1.0\u001b[0m\u001b[0;34m\u001b[0m\u001b[0;34m\u001b[0m\u001b[0m\n\u001b[1;32m      9\u001b[0m     \u001b[0;32mfor\u001b[0m \u001b[0mfeatures\u001b[0m \u001b[0;32min\u001b[0m \u001b[0mrange\u001b[0m\u001b[0;34m(\u001b[0m\u001b[0mn\u001b[0m\u001b[0;34m)\u001b[0m\u001b[0;34m:\u001b[0m\u001b[0;34m\u001b[0m\u001b[0;34m\u001b[0m\u001b[0m\n\u001b[0;32m---> 10\u001b[0;31m       \u001b[0mcond\u001b[0m\u001b[0;34m=\u001b[0m\u001b[0mcond_prob\u001b[0m\u001b[0;34m(\u001b[0m\u001b[0mX_train\u001b[0m\u001b[0;34m,\u001b[0m\u001b[0mY_train\u001b[0m\u001b[0;34m,\u001b[0m \u001b[0mfeatures\u001b[0m\u001b[0;34m,\u001b[0m \u001b[0mX_test\u001b[0m\u001b[0;34m[\u001b[0m\u001b[0mfeatures\u001b[0m\u001b[0;34m]\u001b[0m\u001b[0;34m,\u001b[0m\u001b[0mlabels\u001b[0m\u001b[0;34m)\u001b[0m\u001b[0;34m\u001b[0m\u001b[0;34m\u001b[0m\u001b[0m\n\u001b[0m\u001b[1;32m     11\u001b[0m       \u001b[0mlikelyhood\u001b[0m\u001b[0;34m=\u001b[0m\u001b[0mcond\u001b[0m\u001b[0;34m*\u001b[0m\u001b[0mlikelyhood\u001b[0m\u001b[0;34m\u001b[0m\u001b[0;34m\u001b[0m\u001b[0m\n\u001b[1;32m     12\u001b[0m     \u001b[0mprior\u001b[0m\u001b[0;34m=\u001b[0m\u001b[0mprior_prob\u001b[0m \u001b[0;34m(\u001b[0m\u001b[0mY_train\u001b[0m\u001b[0;34m,\u001b[0m\u001b[0mlabels\u001b[0m\u001b[0;34m)\u001b[0m\u001b[0;34m\u001b[0m\u001b[0;34m\u001b[0m\u001b[0m\n",
            "\u001b[0;31mIndexError\u001b[0m: invalid index to scalar variable."
          ]
        }
      ]
    },
    {
      "cell_type": "code",
      "source": [],
      "metadata": {
        "id": "ht1AoNbuSsRg"
      },
      "execution_count": null,
      "outputs": []
    }
  ]
}